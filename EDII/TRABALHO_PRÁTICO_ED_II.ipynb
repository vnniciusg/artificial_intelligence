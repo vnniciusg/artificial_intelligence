{
  "nbformat": 4,
  "nbformat_minor": 0,
  "metadata": {
    "colab": {
      "provenance": [],
      "mount_file_id": "15jlBC-WeFCBHljwinDjyMC5Mb1a8k9CD",
      "authorship_tag": "ABX9TyMg19hkZ0OcMBKiszJTH3+z"
    },
    "kernelspec": {
      "name": "python3",
      "display_name": "Python 3"
    },
    "language_info": {
      "name": "python"
    }
  },
  "cells": [
    {
      "cell_type": "code",
      "execution_count": 88,
      "metadata": {
        "id": "oh8gNK-Dt06n"
      },
      "outputs": [],
      "source": [
        "import numpy as np\n",
        "import tensorflow as tf"
      ]
    },
    {
      "cell_type": "code",
      "source": [
        "data = []\n",
        "with open(\"data.txt\", \"r\") as file:\n",
        "    for line in file:\n",
        "        numbers = line.strip().split(',')\n",
        "        n = []\n",
        "        for number in numbers:\n",
        "            d = [int(digit) for digit in number]\n",
        "            n.append(d)\n",
        "        data.append(n)"
      ],
      "metadata": {
        "id": "K-dmK2gEt55a"
      },
      "execution_count": 89,
      "outputs": []
    },
    {
      "cell_type": "code",
      "source": [
        "X = []\n",
        "y = []\n",
        "\n",
        "for row in data:\n",
        "    X.append(row[:-1])\n",
        "    y.append(row[-1])\n",
        "\n",
        "X_train = np.array(X)\n",
        "y_train = np.array(y)"
      ],
      "metadata": {
        "colab": {
          "base_uri": "https://localhost:8080/"
        },
        "id": "Ptf-AUDPGwN2",
        "outputId": "ac2054b0-18c2-45c2-bd84-a10756ca2cc1"
      },
      "execution_count": 103,
      "outputs": [
        {
          "output_type": "stream",
          "name": "stdout",
          "text": [
            "(10, 9, 5)\n",
            "(10, 10)\n"
          ]
        }
      ]
    },
    {
      "cell_type": "code",
      "source": [
        "model = tf.keras.Sequential([\n",
        "        tf.keras.layers.Flatten(input_shape=(X_train.shape[1], X_train.shape[2])),\n",
        "        tf.keras.layers.Dense(45, activation='relu'),\n",
        "        tf.keras.layers.Dense(y_train.shape[1], activation='softmax')\n",
        "])"
      ],
      "metadata": {
        "id": "BrgEtBl4HQga"
      },
      "execution_count": 104,
      "outputs": []
    },
    {
      "cell_type": "code",
      "source": [
        "model.compile(optimizer='adam', loss='sparse_categorical_crossentropy', metrics=['accuracy'])\n",
        "model.fit(X_train, y_train, epochs=100, batch_size=32)"
      ],
      "metadata": {
        "id": "STPevxJPHva0"
      },
      "execution_count": null,
      "outputs": []
    },
    {
      "cell_type": "code",
      "source": [
        "sample = np.array([\n",
        "    [0, 0, 1, 0, 0],\n",
        "    [0, 0, 1, 0, 0],\n",
        "    [0, 0, 1, 0, 0],\n",
        "    [0, 0, 1, 0, 0],\n",
        "    [0, 0, 1, 0, 0],\n",
        "    [0, 0, 1, 0, 0],\n",
        "    [0, 0, 1, 0, 0],\n",
        "    [0, 0, 1, 0, 0],\n",
        "    [0, 0, 1, 0, 0]\n",
        "])\n",
        "\n",
        "sample = np.expand_dims(sample, axis=0)\n",
        "\n",
        "predictions = model.predict(sample)\n",
        "predicted_classes = np.argmax(predictions, axis=1)\n",
        "\n",
        "binary_predictions = np.zeros_like(predictions)\n",
        "binary_predictions[np.arange(len(predictions)), predicted_classes] = 1\n",
        "\n",
        "print(\"Previsões binárias para as amostras de teste:\")\n",
        "print(binary_predictions)"
      ],
      "metadata": {
        "colab": {
          "base_uri": "https://localhost:8080/"
        },
        "id": "RcEPOYS_Krt9",
        "outputId": "60babfb4-d9ef-4551-ef18-1f2fd8d84bae"
      },
      "execution_count": 117,
      "outputs": [
        {
          "output_type": "stream",
          "name": "stdout",
          "text": [
            "1/1 [==============================] - 0s 22ms/step\n",
            "Previsões binárias para as amostras de teste:\n",
            "[[1. 0. 0. 0. 0. 0. 0. 0. 0. 0.]]\n"
          ]
        }
      ]
    },
    {
      "cell_type": "code",
      "source": [],
      "metadata": {
        "id": "pwsuMxfKK8YH"
      },
      "execution_count": 69,
      "outputs": []
    }
  ]
}